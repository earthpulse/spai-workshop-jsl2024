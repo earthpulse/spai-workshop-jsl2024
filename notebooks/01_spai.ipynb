{
 "cells": [
  {
   "cell_type": "markdown",
   "metadata": {},
   "source": [
    "# SPAI\n"
   ]
  },
  {
   "cell_type": "markdown",
   "metadata": {},
   "source": [
    "A pesar de la inmensa cantidad de datos de observación de la Tierra disponibles en la actualidad, la realidad es que esta fuente de datos sigue siendo en gran medida desconocida, sin explotar y sin aprovechar todo su potencial. La esencia de SPAI radica en romper la barrera de la complejidad de los datos y la necesidad de conocimiento experto, con el objetivo de empoderar al usuario, ya sea experto o no, tenga o no conocimientos de programación o IA, para extraer valor sin esfuerzo de Datos de observación de la Tierra a través de análisis satelitales impulsados ​​por IA.\n",
    "\n",
    "¡Echa un vistazo a la demo y descubre todo lo que puedes hacer con SPAI!\n",
    "\n",
    "<center>\n",
    " <iframe width=\"700\" \n",
    "         height=\"400\" \n",
    "         src=\"https://www.youtube.com/embed/Int_J0NKCyQ\" \n",
    "         title=\"YouTube video player\" \n",
    "         frameborder=\"0\" \n",
    "         allow=\"accelerometer; autoplay; clipboard-write; encrypted-media; gyroscope; picture-in-picture\" \n",
    "         allowfullscreen>\n",
    " </iframe>\n",
    "</center>\n"
   ]
  },
  {
   "cell_type": "markdown",
   "metadata": {},
   "source": [
    "## ¿Qué es SPAI?\n",
    "\n",
    "SPAI significa Satellite Processing Application Interface y es un marco de desarrollo completo que permite crear e implementar aplicaciones basadas en datos de Observación de la Tierra en la nube. Está diseñado para ser fácil de usar, para que usted pueda concentrarse en escribir su código y dejar que nosotros nos encarguemos del resto.\n",
    "\n",
    "Con SPAI puede crear proyectos SPAI, que pueden consistir en almacenamiento, scripts de procesamiento, API, interfaces de usuario y Jupyter Notebooks. Puede desarrollar, probar y ejecutar sus proyectos localmente y luego implementarlos en la nube con un solo comando. Nos encargaremos de aprovisionar los recursos necesarios en la nube y gestionarlos por usted. Una vez que su proyecto esté implementado, tendrá acceso a los registros y obtendrá URL públicas para sus API, UI y cuadernos.\n",
    "\n",
    "SPAI también proporciona una biblioteca Python que puede utilizar en sus aplicaciones. Le brindará acceso optimizado a una amplia gama de fuentes de datos, algoritmos de procesamiento (incluidos modelos de IA) y capacidades de análisis. Todo a través de una interfaz sencilla y unificada que integra los servicios y soluciones de terceros más populares.\n",
    "\n",
    "SPAI es compatible con soluciones existentes, por lo que puedes integrarlo con otras herramientas como QGIS.\n",
    "\n",
    "¡Mira un ejemplo de lo que se puede hacer con SPAI! Por ejemplo, este visor para ver el impacto de los bombardeos en [Gaza](https://tinyurl.com/spai-gaza).\n"
   ]
  },
  {
   "cell_type": "markdown",
   "metadata": {},
   "source": [
    "## ¿Por qué SPAI?\n",
    "\n",
    "Desarrollar e implementar aplicaciones basadas en datos de observación de la Tierra impulsadas por IA puede ser un desafío, tanto a nivel de conocimientos como a nivel de consumo de recursos. La fragmentación del acceso a los datos y sus diferentes formatos, el procesamiento de dichos datos –con altas demandas computacionales–, la integración de modelos de IA o el despliegue de dichas aplicaciones es una tarea compleja que involucra múltiples herramientas independientes. En respuesta a esta necesidad surge SPAI, un framework de desarrollo de aplicaciones de observación de la Tierra que cubre el entero proceso de desarrollo de estas aplicaciones, desde la obtención de los datos, su almacenamiento y procesamiento a través de modelos de inteligencia artificial fácilmente accesibles hasta el despliegue de estas aplicaciones en la nube.\n"
   ]
  },
  {
   "cell_type": "markdown",
   "metadata": {},
   "source": [
    "## ¿Para quien es SPAI?\n"
   ]
  }
 ],
 "metadata": {
  "language_info": {
   "name": "python"
  }
 },
 "nbformat": 4,
 "nbformat_minor": 2
}
