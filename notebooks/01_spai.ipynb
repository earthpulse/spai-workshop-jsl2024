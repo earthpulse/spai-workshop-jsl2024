{
 "cells": [
  {
   "cell_type": "markdown",
   "metadata": {},
   "source": [
    "# SPAI\n"
   ]
  },
  {
   "cell_type": "markdown",
   "metadata": {},
   "source": [
    "Este tutorial paso a paso lo ayudará a comenzar con SPAI, una plataforma de extremo a extremo para desarrolladores que le permite crear e implementar aplicaciones AI4EO.\n"
   ]
  },
  {
   "cell_type": "markdown",
   "metadata": {},
   "source": [
    "## ¿Por qué SPAI?\n",
    "\n",
    "Desarrollar e implementar aplicaciones basadas en datos de observación de la Tierra impulsadas por IA puede ser un desafío, tanto a nivel de conocimientos como a nivel de consumo de recursos. La fragmentación del acceso a los datos y sus diferentes formatos, el procesamiento de dichos datos –con altas demandas computacionales–, la integración de modelos de IA o el despliegue de dichas aplicaciones es una tarea compleja que involucra múltiples herramientas independientes. En respuesta a esta necesidad surge SPAI, un framework de desarrollo de aplicaciones de observación de la Tierra que cubre el entero proceso de desarrollo de estas aplicaciones, desde la obtención de los datos, su almacenamiento y procesamiento a través de modelos de inteligencia artificial fácilmente accesibles hasta el despliegue de estas aplicaciones en la nube.\n"
   ]
  },
  {
   "cell_type": "markdown",
   "metadata": {},
   "source": [
    "## ¿Qué es SPAI?\n"
   ]
  },
  {
   "cell_type": "markdown",
   "metadata": {},
   "source": [
    "SPAI significa Satellite Processing Application Interface y es un marco de desarrollo completo que permite crear e implementar aplicaciones basadas en datos de Observación de la Tierra en la nube. Está diseñado para ser fácil de usar, para que usted pueda concentrarse en escribir su código y dejar que nosotros nos encarguemos del resto.\n",
    "\n",
    "Con SPAI puede crear proyectos SPAI, que pueden consistir en almacenamiento, scripts de procesamiento, API, interfaces de usuario y Jupyter Notebooks. Puede desarrollar, probar y ejecutar sus proyectos localmente y luego implementarlos en la nube con un solo comando. Nos encargaremos de aprovisionar los recursos necesarios en la nube y gestionarlos por usted. Una vez que su proyecto esté implementado, tendrá acceso a los registros y obtendrá URL públicas para sus API, UI y cuadernos.\n"
   ]
  },
  {
   "cell_type": "markdown",
   "metadata": {},
   "source": [
    "> Gracias a SPAI nunca ha sido tan fácil crear y desplegar aplicaciones AI4EO 🚀\n"
   ]
  },
  {
   "cell_type": "markdown",
   "metadata": {},
   "source": [
    "SPAI también proporciona una biblioteca Python que puede utilizar en sus aplicaciones. Le brindará acceso optimizado a una amplia gama de fuentes de datos, algoritmos de procesamiento (incluidos modelos de IA) y capacidades de análisis. Todo a través de una interfaz sencilla y unificada que integra los servicios y soluciones de terceros más populares.\n",
    "\n",
    "SPAI es compatible con soluciones existentes, por lo que puedes integrarlo con otras herramientas como QGIS.\n"
   ]
  },
  {
   "cell_type": "markdown",
   "metadata": {},
   "source": [
    "> Únase a nuestro [Discord](https://discord.com/invite/gCWyPzDjM2) para ser parte de la comunidad, ponerse en contacto con otros desarrolladores y ser parte en la configuración del futuro de la Observación de la Tierra 🛰️.\n"
   ]
  }
 ],
 "metadata": {
  "language_info": {
   "name": "python"
  }
 },
 "nbformat": 4,
 "nbformat_minor": 2
}
