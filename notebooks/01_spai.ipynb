{
 "cells": [
  {
   "cell_type": "markdown",
   "metadata": {},
   "source": [
    "# SPAI\n"
   ]
  },
  {
   "cell_type": "markdown",
   "metadata": {},
   "source": [
    "A pesar de la inmensa cantidad de datos de observación de la Tierra disponibles en la actualidad, la realidad es que esta fuente de datos sigue siendo en gran medida desconocida, sin explotar y sin aprovechar todo su potencial. La esencia de SPAI radica en romper la barrera de la complejidad de los datos y la necesidad de conocimiento experto, con el objetivo de empoderar al usuario, ya sea experto o no, tenga o no conocimientos de programación o IA, para extraer valor sin esfuerzo de Datos de observación de la Tierra a través de análisis satelitales impulsados ​​por IA.\n",
    "\n",
    "¡Echa un vistazo a la demo y descubre todo lo que puedes hacer con SPAI!\n",
    "\n",
    "<center>\n",
    " <iframe width=\"700\" \n",
    "         height=\"400\" \n",
    "         src=\"https://www.youtube.com/embed/Int_J0NKCyQ\" \n",
    "         title=\"YouTube video player\" \n",
    "         frameborder=\"0\" \n",
    "         allow=\"accelerometer; autoplay; clipboard-write; encrypted-media; gyroscope; picture-in-picture\" \n",
    "         allowfullscreen>\n",
    " </iframe>\n",
    "</center>\n"
   ]
  },
  {
   "cell_type": "markdown",
   "metadata": {},
   "source": [
    "## ¿Qué es SPAI?\n",
    "\n",
    "SPAI significa Satellite Processing Application Interface y es un marco de desarrollo completo que permite crear e implementar aplicaciones basadas en datos de Observación de la Tierra en la nube. Está diseñado para ser fácil de usar, para que usted pueda concentrarse en escribir su código y dejar que nosotros nos encarguemos del resto.\n",
    "\n",
    "Con SPAI puede crear proyectos SPAI, que pueden consistir en almacenamiento, scripts de procesamiento, API, interfaces de usuario y Jupyter Notebooks. Puede desarrollar, probar y ejecutar sus proyectos localmente y luego implementarlos en la nube con un solo comando. Nos encargaremos de aprovisionar los recursos necesarios en la nube y gestionarlos por usted. Una vez que su proyecto esté implementado, tendrá acceso a los registros y obtendrá URL públicas para sus API, UI y notebooks.\n",
    "\n",
    "SPAI también proporciona una biblioteca Python que puede utilizar en sus aplicaciones. Le brindará acceso optimizado a una amplia gama de fuentes de datos, algoritmos de procesamiento (incluidos modelos de IA) y capacidades de análisis. Todo a través de una interfaz sencilla y unificada que integra los servicios y soluciones de terceros más populares.\n",
    "\n",
    "SPAI es compatible con soluciones existentes, por lo que puedes integrarlo con otras herramientas como QGIS.\n"
   ]
  },
  {
   "cell_type": "markdown",
   "metadata": {},
   "source": [
    "¡Mira un ejemplo de lo que se puede hacer con SPAI! Por ejemplo, este [visor](https://tinyurl.com/spai-begues) para ver la evolución de la vegetación en Begues, Cataluña.\n"
   ]
  },
  {
   "cell_type": "markdown",
   "metadata": {},
   "source": [
    "## ¿Por qué SPAI?\n",
    "\n",
    "Desarrollar e implementar aplicaciones basadas en datos de observación de la Tierra impulsadas por IA puede ser un desafío, tanto a nivel de conocimientos como a nivel de consumo de recursos. La fragmentación del acceso a los datos y sus diferentes formatos, el procesamiento de dichos datos –con altas demandas computacionales–, la integración de modelos de IA o el despliegue de dichas aplicaciones es una tarea compleja que involucra múltiples herramientas independientes. En respuesta a esta necesidad surge SPAI, un framework de desarrollo de aplicaciones de observación de la Tierra que cubre el entero proceso de desarrollo de estas aplicaciones, desde la obtención de los datos, su almacenamiento y procesamiento a través de modelos de inteligencia artificial fácilmente accesibles hasta el despliegue de estas aplicaciones en la nube.\n"
   ]
  },
  {
   "cell_type": "markdown",
   "metadata": {},
   "source": [
    "## Cómo comenzar\n"
   ]
  },
  {
   "cell_type": "markdown",
   "metadata": {},
   "source": [
    "Para comenzar a utilizar SPAI, lo primero que vamos a hacer es instalar su librería de [Python](https://pypi.org/project/spai/). La misma librería ya incluye la CLI, por lo que no nos tenemos que preocupar de nada más.\n"
   ]
  },
  {
   "cell_type": "code",
   "execution_count": null,
   "metadata": {},
   "outputs": [],
   "source": [
    "!pip install spai"
   ]
  },
  {
   "cell_type": "markdown",
   "metadata": {},
   "source": [
    "Una vez que se completa la instalación, puede verificar que SPAI esté instalado ejecutando el siguiente comando:\n"
   ]
  },
  {
   "cell_type": "code",
   "execution_count": 1,
   "metadata": {},
   "outputs": [
    {
     "name": "stdout",
     "output_type": "stream",
     "text": [
      "SPAI Version: 2024.06.06\n"
     ]
    }
   ],
   "source": [
    "!spai version"
   ]
  },
  {
   "cell_type": "markdown",
   "metadata": {},
   "source": [
    "Y ver todos los diferentes comandos con:\n"
   ]
  },
  {
   "cell_type": "code",
   "execution_count": 2,
   "metadata": {},
   "outputs": [
    {
     "name": "stdout",
     "output_type": "stream",
     "text": [
      "\u001b[1m                                                                                \u001b[0m\n",
      "\u001b[1m \u001b[0m\u001b[1;33mUsage: \u001b[0m\u001b[1mspai [OPTIONS] COMMAND [ARGS]...\u001b[0m\u001b[1m                                       \u001b[0m\u001b[1m \u001b[0m\n",
      "\u001b[1m                                                                                \u001b[0m\n",
      " Welcome to SPAI                                                                \n",
      "                                                                                \n",
      "\u001b[2m╭─\u001b[0m\u001b[2m Options \u001b[0m\u001b[2m───────────────────────────────────────────────────────────────────\u001b[0m\u001b[2m─╮\u001b[0m\n",
      "\u001b[2m│\u001b[0m \u001b[1;36m-\u001b[0m\u001b[1;36m-install\u001b[0m\u001b[1;36m-completion\u001b[0m        \u001b[1;2;33m[\u001b[0m\u001b[1;33mbash\u001b[0m\u001b[1;2;33m|\u001b[0m\u001b[1;33mzsh\u001b[0m\u001b[1;2;33m|\u001b[0m\u001b[1;33mfish\u001b[0m\u001b[1;2;33m|\u001b[0m\u001b[1;33mpowershe\u001b[0m  Install completion for  \u001b[2m│\u001b[0m\n",
      "\u001b[2m│\u001b[0m                             \u001b[1;33mll\u001b[0m\u001b[1;2;33m|\u001b[0m\u001b[1;33mpwsh\u001b[0m\u001b[1;2;33m]\u001b[0m\u001b[1;33m               \u001b[0m  the specified shell.    \u001b[2m│\u001b[0m\n",
      "\u001b[2m│\u001b[0m                                                      \u001b[2m[default: None]        \u001b[0m \u001b[2m│\u001b[0m\n",
      "\u001b[2m│\u001b[0m \u001b[1;36m-\u001b[0m\u001b[1;36m-show\u001b[0m\u001b[1;36m-completion\u001b[0m           \u001b[1;2;33m[\u001b[0m\u001b[1;33mbash\u001b[0m\u001b[1;2;33m|\u001b[0m\u001b[1;33mzsh\u001b[0m\u001b[1;2;33m|\u001b[0m\u001b[1;33mfish\u001b[0m\u001b[1;2;33m|\u001b[0m\u001b[1;33mpowershe\u001b[0m  Show completion for the \u001b[2m│\u001b[0m\n",
      "\u001b[2m│\u001b[0m                             \u001b[1;33mll\u001b[0m\u001b[1;2;33m|\u001b[0m\u001b[1;33mpwsh\u001b[0m\u001b[1;2;33m]\u001b[0m\u001b[1;33m               \u001b[0m  specified shell, to     \u001b[2m│\u001b[0m\n",
      "\u001b[2m│\u001b[0m                                                      copy it or customize    \u001b[2m│\u001b[0m\n",
      "\u001b[2m│\u001b[0m                                                      the installation.       \u001b[2m│\u001b[0m\n",
      "\u001b[2m│\u001b[0m                                                      \u001b[2m[default: None]        \u001b[0m \u001b[2m│\u001b[0m\n",
      "\u001b[2m│\u001b[0m \u001b[1;36m-\u001b[0m\u001b[1;36m-help\u001b[0m                      \u001b[1;33m                       \u001b[0m  Show this message and   \u001b[2m│\u001b[0m\n",
      "\u001b[2m│\u001b[0m                                                      exit.                   \u001b[2m│\u001b[0m\n",
      "\u001b[2m╰──────────────────────────────────────────────────────────────────────────────╯\u001b[0m\n",
      "\u001b[2m╭─\u001b[0m\u001b[2m Commands \u001b[0m\u001b[2m──────────────────────────────────────────────────────────────────\u001b[0m\u001b[2m─╮\u001b[0m\n",
      "\u001b[2m│\u001b[0m \u001b[1;36mapi      \u001b[0m\u001b[1;36m \u001b[0m Get SPAI API url and status                                       \u001b[2m│\u001b[0m\n",
      "\u001b[2m│\u001b[0m \u001b[1;36mauth     \u001b[0m\u001b[1;36m \u001b[0m Authentication commands                                           \u001b[2m│\u001b[0m\n",
      "\u001b[2m│\u001b[0m \u001b[1;36mclone    \u001b[0m\u001b[1;36m \u001b[0m Clone a template                                                  \u001b[2m│\u001b[0m\n",
      "\u001b[2m│\u001b[0m \u001b[1;36mdelete   \u001b[0m\u001b[1;36m \u001b[0m Delete a project                                                  \u001b[2m│\u001b[0m\n",
      "\u001b[2m│\u001b[0m \u001b[1;36mdeploy   \u001b[0m\u001b[1;36m \u001b[0m Deploy a project to the cloud                                     \u001b[2m│\u001b[0m\n",
      "\u001b[2m│\u001b[0m \u001b[1;36minit     \u001b[0m\u001b[1;36m \u001b[0m Create a new project from starter template                        \u001b[2m│\u001b[0m\n",
      "\u001b[2m│\u001b[0m \u001b[1;36minstall  \u001b[0m\u001b[1;36m \u001b[0m Install requirements for a project                                \u001b[2m│\u001b[0m\n",
      "\u001b[2m│\u001b[0m \u001b[1;36mlist     \u001b[0m\u001b[1;36m \u001b[0m Retrive information about your projects and services              \u001b[2m│\u001b[0m\n",
      "\u001b[2m│\u001b[0m \u001b[1;36mlogs     \u001b[0m\u001b[1;36m \u001b[0m Retrieve the logs of a service                                    \u001b[2m│\u001b[0m\n",
      "\u001b[2m│\u001b[0m \u001b[1;36mrun      \u001b[0m\u001b[1;36m \u001b[0m Run a project locally                                             \u001b[2m│\u001b[0m\n",
      "\u001b[2m│\u001b[0m \u001b[1;36mstop     \u001b[0m\u001b[1;36m \u001b[0m Stop a project                                                    \u001b[2m│\u001b[0m\n",
      "\u001b[2m│\u001b[0m \u001b[1;36mversion  \u001b[0m\u001b[1;36m \u001b[0m Get SPAI version                                                  \u001b[2m│\u001b[0m\n",
      "\u001b[2m╰──────────────────────────────────────────────────────────────────────────────╯\u001b[0m\n",
      "\n"
     ]
    }
   ],
   "source": [
    "!spai --help"
   ]
  },
  {
   "cell_type": "markdown",
   "metadata": {},
   "source": [
    "Para sacar todo el provecho de SPAI, debemos autenticarnos utilizando la CLI. Para ello, previamente nos tenemos que haber registrado en la página de EarthPulse o de [SPAI](https://spai.earthpulse.ai/).\n"
   ]
  },
  {
   "cell_type": "code",
   "execution_count": null,
   "metadata": {},
   "outputs": [],
   "source": [
    "!spai auth login"
   ]
  },
  {
   "cell_type": "markdown",
   "metadata": {},
   "source": [
    "## ¿Qué sigue?\n",
    "\n",
    "Ahora que ya estamos calentando, vamos a comenzar por la base: acceder a datos a través de SPAI. Vamos a la siguiente notebook, [acceso_datos.ipynb](02_acceso_datos.ipynb)\n"
   ]
  }
 ],
 "metadata": {
  "kernelspec": {
   "display_name": "spai",
   "language": "python",
   "name": "python3"
  },
  "language_info": {
   "codemirror_mode": {
    "name": "ipython",
    "version": 3
   },
   "file_extension": ".py",
   "mimetype": "text/x-python",
   "name": "python",
   "nbconvert_exporter": "python",
   "pygments_lexer": "ipython3",
   "version": "3.10.14"
  }
 },
 "nbformat": 4,
 "nbformat_minor": 2
}
