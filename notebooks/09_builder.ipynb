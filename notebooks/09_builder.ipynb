{
 "cells": [
  {
   "cell_type": "markdown",
   "metadata": {},
   "source": [
    "# SPAI Builder\n"
   ]
  },
  {
   "cell_type": "markdown",
   "metadata": {},
   "source": [
    "¿No tienes conocimientos de programación, y el Hub no es lo suficientemente fino para ti? ¡No es problema! Puedes utilizar SPAI Builder. SPAI Builder es una plataforma SaaS basada en la nube para el procesamiento de datos de EO y el desarrollo de aplicaciones. Con su interfaz gráfica, proporciona un entorno visual donde los usuarios pueden diseñar flujos de trabajo conectando nodos que representan herramientas de procesamiento, algoritmos, modelos de IA y otros bloques analíticos. Diseñado como una herramienta sin código, está dirigido a ingenieros de EO o GEO que pueden carecer de experiencia en programación o prefieren trabajar sin codificación, ofreciendo una interfaz de usuario intuitiva y fácil de usar para ejecutar tareas de manera eficiente.\n",
    "\n",
    "![Alt text](https://spai.earthpulse.ai/images/docs/spai-builder.png \"SPAI Hub\")\n"
   ]
  },
  {
   "cell_type": "markdown",
   "metadata": {},
   "source": [
    "¡Veamos un ejemplo de cómo usarlo! ¡Vamos a la web de [SPAI Builder](https://spai.earthpulse.ai/builder) y veamos ejemplos de cómo utilizarlo!\n",
    "\n",
    "Si quieres, puedes ir directamente a la [guía](https://spai.earthpulse.ai/docs/guide/builder) y seguirla a tu propio ritmo.\n"
   ]
  }
 ],
 "metadata": {
  "language_info": {
   "name": "python"
  }
 },
 "nbformat": 4,
 "nbformat_minor": 2
}
