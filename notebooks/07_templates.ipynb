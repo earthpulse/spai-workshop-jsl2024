{
 "cells": [
  {
   "cell_type": "markdown",
   "metadata": {},
   "source": [
    "# Utilizando un template de SPAI\n"
   ]
  },
  {
   "cell_type": "markdown",
   "metadata": {},
   "source": [
    "## ¿Qué es un template?\n",
    "\n",
    "Un [template de SPAI](/docs/reference/cli/templates) no es más que un proyecto de SPAI que ya está listo para usarse para un caso de uso específico,\n",
    "como monitoreo forestal, cálculo de riesgo de incendio, mapeo de inundaciones y muchas otras aplicaciones, **siendo una excelente manera de demostrar la\n",
    "Valor de los datos de observación de la Tierra**.\n",
    "\n",
    "Sólo necesitas empezar con un proyecto SPAI y empezar a crear tu propia plantilla.\n"
   ]
  },
  {
   "cell_type": "markdown",
   "metadata": {},
   "source": [
    "## Clonar un template\n",
    "\n",
    "Lo primero que vamos a hacer es clonar localmente el template de `forest-monitoring` e inspeccionar sus módulos y detalles.\n",
    "\n",
    "> Recuerda que necesita tener SPAI [instalado](/docs/tutorials/getting-started) para poder clonar templates y estar autenticado para implementarlas.\n",
    "\n",
    "Clonar una plantilla SPAI es tan fácil como ejecutar un único comando CLI. En este caso, queremos clonar la plantilla \"forest-monitoring\".\n"
   ]
  },
  {
   "cell_type": "code",
   "execution_count": null,
   "metadata": {},
   "outputs": [],
   "source": [
    "!spai clone forest-monitoring"
   ]
  },
  {
   "cell_type": "markdown",
   "metadata": {},
   "source": [
    "Con algo tan sencillo hemos clonado y creado el template localmente, en la carpeta donde hemos ejecutado el comando y con el nombre `forest-monitoring`.\n",
    "\n",
    "> Los templates de SPAI son repositorios de GitHub, y eso permite poder desplegarlos sin necesidad de clonarlos en local. Si quieres ver el repositorio de `forest-monitoring`, puedes ir a su repositorio [aquí](https://github.com/fmariv/forest-monitoring-template).\n"
   ]
  },
  {
   "cell_type": "markdown",
   "metadata": {},
   "source": [
    "### Estructura de proyecto\n",
    "\n",
    "La estructura del template de `forest-monitoring` sigue la misma estructura que un proyecto de SPAI, simplemente listo para ser utilizado. Vamos a ver su contenido.\n"
   ]
  },
  {
   "cell_type": "markdown",
   "metadata": {},
   "source": [
    "El template tiene predeterminada una área de interés y unas fechas. Si queremos, podemos explorar la AoI.\n"
   ]
  },
  {
   "cell_type": "code",
   "execution_count": 9,
   "metadata": {},
   "outputs": [
    {
     "data": {
      "application/vnd.jupyter.widget-view+json": {
       "model_id": "c77a9edf483d4ae98d105890af42a927",
       "version_major": 2,
       "version_minor": 0
      },
      "text/plain": [
       "Map(center=[20, 0], controls=(ZoomControl(options=['position', 'zoom_in_text', 'zoom_in_title', 'zoom_out_text…"
      ]
     },
     "execution_count": 9,
     "metadata": {},
     "output_type": "execute_result"
    }
   ],
   "source": [
    "import geopandas as gpd\n",
    "import json\n",
    "import leafmap\n",
    "\n",
    "# Ruta del archivo spai.vars.json\n",
    "file_path = \"forest-monitoring/spai.vars.json\"\n",
    "\n",
    "# Leer el archivo JSON\n",
    "with open(file_path) as f:\n",
    "    data = json.load(f)\n",
    "\n",
    "# Extraer la variable AOI\n",
    "aoi = data[\"AOI\"]\n",
    "\n",
    "# Convertir la variable AOI en un GeoDataFrame\n",
    "gdf_aoi = gpd.GeoDataFrame.from_features(aoi)\n",
    "\n",
    "m = leafmap.Map(zoom=6)\n",
    "m.add_gdf(gdf_aoi, layer_name=\"AoI\")\n",
    "m.zoom_to_gdf(gdf_aoi)\n",
    "m"
   ]
  },
  {
   "cell_type": "markdown",
   "metadata": {},
   "source": [
    "## Desplegando el template localmente\n",
    "\n",
    "Ahora que hemos visto lo que tiene el template, ¡vamos a desplegarlo!\n"
   ]
  },
  {
   "cell_type": "code",
   "execution_count": null,
   "metadata": {},
   "outputs": [],
   "source": [
    "!spai run forest-monitoring"
   ]
  },
  {
   "cell_type": "markdown",
   "metadata": {},
   "source": [
    "Como hemos visto en ejemplos anteriores, con este comando hemos desplegado el template en local. Pero, ¿y si queremos desplegarlo directamente, sin tener que clonarlo antes? ¡Se puede!\n"
   ]
  },
  {
   "cell_type": "code",
   "execution_count": null,
   "metadata": {},
   "outputs": [],
   "source": [
    "!spai run -t forest-monitoring"
   ]
  },
  {
   "cell_type": "markdown",
   "metadata": {},
   "source": [
    "## Desplegando el template en el cloud\n",
    "\n",
    "Desplegar el template en el cloud, sin ni siquiera tener que clonarlo en local, es tan fácil como un comando:\n"
   ]
  },
  {
   "cell_type": "code",
   "execution_count": null,
   "metadata": {},
   "outputs": [],
   "source": [
    "!spai deploy -t forest-monitoring"
   ]
  },
  {
   "cell_type": "markdown",
   "metadata": {},
   "source": [
    "## Cambiando las variables del template\n",
    "\n",
    "El poder de las plantillas SPAI es que son reproducibles en cualquier parte del mundo y en cualquier momento (¡siempre que haya imágenes disponibles!).\n",
    "Entonces, tenemos que poder cambiar tanto el área de interés de la plantilla como el intervalo de tiempo. Por supuesto, esto se puede hacer de dos maneras.\n",
    "\n",
    "### Editar manualmente spai.vars.json\n",
    "\n",
    "La primera opción, y posiblemente la más sencilla, es clonar la plantilla localmente mediante `spai clone forest-monitoring` y luego editarla manualmente.\n",
    "el `spai.vars.json`. Por ejemplo, podemos cambiar el AOI y las fechas.\n",
    "\n",
    "### Editar variables mediante CLI\n",
    "\n",
    "La segunda opción es editar las variables a través de CLI al ejecutar un `spai run` o `spai desplegar`, agregando el indicador `-v` para editar la variable.\n",
    "\n",
    "Por ejemplo, si queremos editar las fechas:\n"
   ]
  },
  {
   "cell_type": "code",
   "execution_count": null,
   "metadata": {},
   "outputs": [],
   "source": [
    "!spai deploy -t forest-monitoring -v DATES='[\"2020-02-10\", \"2020-02-15\"]'"
   ]
  },
  {
   "cell_type": "markdown",
   "metadata": {},
   "source": [
    "Y por otro lado, si quisiéramos editar el área de interés, deberíamos pasar su geometría como un GeoJSON:\n"
   ]
  },
  {
   "cell_type": "code",
   "execution_count": null,
   "metadata": {},
   "outputs": [],
   "source": [
    "!spai deploy -t forest-monitoring -v AOI='tu-nueva-geometría'"
   ]
  },
  {
   "cell_type": "markdown",
   "metadata": {},
   "source": [
    "¡Con estos simples comandos, puedes cambiar las variables de la plantilla como quieras! ¡Siéntete libre de probarlo en diferentes lugares y momentos!\n"
   ]
  },
  {
   "cell_type": "markdown",
   "metadata": {},
   "source": [
    "## ¿Qué sigue?\n",
    "\n",
    "En este apartado hemos aprendido de forma práctica qué son los templates, cómo editarlos y cómo desplegarlos. ¡Pero esto es sólo el comienzo! Te animamos a que dejes volar tu imaginación y empieces a crear plantillas con SPAI.\n",
    "\n",
    "Si prefiere profundizar en la plataforma, puede consultar la sección [referencia](/docs/reference) para obtener más información sobre los diferentes componentes de la plataforma, incluida la [CLI](/docs/reference/cli) y el Python [biblioteca](/docs/reference/lib) para crear sus propias aplicaciones.\n",
    "\n",
    "Ahora, vamos a ver cómo desplegar este mismo template pero desde una cómoda interfaz gráfica, utilizando [SPAI Hub](https://spai.earthpulse.ai/hub)!\n"
   ]
  }
 ],
 "metadata": {
  "kernelspec": {
   "display_name": "spai",
   "language": "python",
   "name": "python3"
  },
  "language_info": {
   "codemirror_mode": {
    "name": "ipython",
    "version": 3
   },
   "file_extension": ".py",
   "mimetype": "text/x-python",
   "name": "python",
   "nbconvert_exporter": "python",
   "pygments_lexer": "ipython3",
   "version": "3.10.14"
  }
 },
 "nbformat": 4,
 "nbformat_minor": 2
}
