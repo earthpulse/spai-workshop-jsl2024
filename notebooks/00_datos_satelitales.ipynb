{
 "cells": [
  {
   "cell_type": "markdown",
   "metadata": {},
   "source": [
    "# Introducción a los datos satelitales\n"
   ]
  },
  {
   "cell_type": "markdown",
   "metadata": {},
   "source": [
    "En este apartado vamos a hacer una muy breve introducción a los datos satelitales y cómo manejarlos.\n"
   ]
  },
  {
   "cell_type": "markdown",
   "metadata": {},
   "source": [
    "## Observación de la Tierra\n"
   ]
  },
  {
   "cell_type": "markdown",
   "metadata": {},
   "source": [
    "El planeta está siendo continuamente observado y fotografiado por satélites. En la actualidad, más de 2.200 satélites orbitan la Tierra, donde los satélites de uso común son tanto comerciales como patrocinados por gobiernos, incluyendo WorldView, Landsat, MODIS, Sentinel, Planet, Maxar, Airbus, y muchos otros patrocinados por muchas empresas y países diferentes.\n",
    "\n",
    "<div style=\"text-align: center;\">\n",
    "    <img src=\"https://sentiwiki.copernicus.eu/__attachments/50561026/image-20231021-065335.png?inst-v=f8bb5375-02f8-4e71-833b-4d242692084c\" style=\"width: 70%;\">\n",
    "</div>\n",
    "\n",
    "> Fuente: ESA\n"
   ]
  },
  {
   "cell_type": "markdown",
   "metadata": {},
   "source": [
    "Los satélites extraen información de la energía que interactúa con la superficie de la Tierra. Los sensores de teledetección miden la radiación electromagnética procedente de la reflexión, la emisión y la reflexión de la emisión.\n",
    "\n",
    "<div style=\"text-align: center;\">\n",
    "    <img src=\"https://www.pgc.umn.edu/files/2001/01/commercialimagery_spectralcap_ems-768x456.png\" style=\"width: 50%;\">\n",
    "</div>\n",
    "\n",
    "> Fuente: https://www.pgc.umn.edu/guides/commercial-imagery/intro-satellite-imagery/\n"
   ]
  },
  {
   "cell_type": "markdown",
   "metadata": {},
   "source": [
    "## Estructura de datos: ráster\n"
   ]
  },
  {
   "cell_type": "markdown",
   "metadata": {},
   "source": [
    "En su gran mayoría, los datos satelitales se consumen como `ráster`. Los datos ráster se almacenan como una cuadrícula de valores que se representan en un mapa como píxeles. Cada valor de píxel representa un área en la superficie de la Tierra. Un ráster geoespacial solo se diferencia de una fotografía digital en que va acompañado de información espacial que conecta los datos con una ubicación particular. Esto incluye la extensión del ráster y el tamaño de celda, el número de filas y columnas y su sistema de referencia de coordenadas (o CRS).\n",
    "\n",
    "<div style=\"text-align: center;\">\n",
    "    <img src=\"https://carpentries-incubator.github.io/geospatial-python/fig/E01/raster_concept.png\" style=\"width: 40%;\">\n",
    "</div>\n",
    "\n",
    "> Fuente: National Ecological Observatory Network (NEON)\n"
   ]
  },
  {
   "cell_type": "markdown",
   "metadata": {},
   "source": [
    "Algunos ejemplos de rásteres continuos incluyen:\n",
    "\n",
    "- Mapas de precipitaciones.\n",
    "- Mapas de altura de árboles derivados de datos LiDAR.\n",
    "- Valores de elevación para una región.\n",
    "\n",
    "<div style=\"text-align: center;\">\n",
    "    <img src=\"https://carpentries-incubator.github.io/geospatial-python/fig/E01/continuous-elevation-HARV-plot-01.png\" style=\"width: 40%;\">\n",
    "</div>\n",
    "\n",
    "> Fuente: HARV Field Site\n"
   ]
  },
  {
   "cell_type": "markdown",
   "metadata": {},
   "source": [
    "Algunos rásteres contienen datos categóricos donde cada píxel representa una clase discreta, como un tipo de cobertura terrestre (por ejemplo, “bosque” o “pradera”) en lugar de un valor continuo como la elevación o la temperatura. Algunos ejemplos de mapas clasificados incluyen:\n",
    "\n",
    "- Mapas de cobertura y uso del suelo.\n",
    "- Mapas de altura de árboles clasificados en árboles bajos, medianos y altos.\n",
    "- Mapas de elevación clasificados como de baja, media y alta elevación.\n",
    "\n",
    "<div style=\"text-align: center;\">\n",
    "    <img src=\"https://carpentries-incubator.github.io/geospatial-python/fig/E01/USA_landcover_classification.png\" style=\"width: 40%;\">\n",
    "</div>\n"
   ]
  },
  {
   "cell_type": "markdown",
   "metadata": {},
   "source": [
    "### Resolución\n",
    "\n",
    "La resolución de un ráster representa el área del terreno que cubre cada píxel del ráster. La siguiente imagen ilustra el efecto de los cambios en la resolución.\n",
    "\n",
    "<div style=\"text-align: center;\">\n",
    "    <img src=\"https://carpentries-incubator.github.io/geospatial-python/fig/E01/raster_resolution.png\" style=\"width: 40%;\">\n",
    "</div>\n"
   ]
  },
  {
   "cell_type": "markdown",
   "metadata": {},
   "source": [
    "### Formatos\n",
    "\n",
    "Los datos ráster pueden venir en muchos formatos diferentes. Para este taller utilizaremos el formato GeoTIFF que tiene la extensión .tif. Un archivo .tif almacena metadatos o atributos sobre el archivo como etiquetas tif incrustadas. Un GeoTIFF es un formato de imagen .tif estándar con información espacial adicional (georreferenciación) incrustada en el archivo como etiquetas. Estas etiquetas deben incluir los siguientes metadatos ráster:\n",
    "\n",
    "- Medida\n",
    "- Resolución\n",
    "- Sistema de referencia de coordenadas (CRS)\n",
    "- Valores que representan datos faltantes (NoDataValue)\n"
   ]
  },
  {
   "cell_type": "markdown",
   "metadata": {},
   "source": [
    "## STAC\n",
    "\n",
    "Las resoluciones actuales de los sensores y los períodos de revisita de los satélites son tales que se añaden diariamente terabytes de productos de datos a las colecciones correspondientes. Estos conjuntos de datos no pueden ponerse a disposición de los usuarios mediante la descarga completa del catálogo.\n",
    "\n",
    "La especificación del Catálogo de Activos Espacio-Temporales (STAC) es un estándar emergente para describir datos geoespaciales. Al organizar los metadatos en una forma que se adhiera a las especificaciones STAC, los proveedores de datos hacen posible que los usuarios accedan a datos de diferentes misiones, instrumentos y colecciones utilizando el mismo conjunto de herramientas.\n",
    "\n",
    "<div style=\"text-align: center;\">\n",
    "    <img src=\"https://data.inpe.br/bdc/web/wp-content/uploads/2021/12/stac-catalog.png\" style=\"width: 60%;\">\n",
    "</div>\n",
    "\n",
    "<div style=\"text-align: center;\">\n",
    "    <img src=\"https://carpentries-incubator.github.io/geospatial-python/fig/E05/STAC-browser.jpg\" style=\"width: 60%;\">\n",
    "</div>\n",
    "\n",
    "> Vistas de STAC Browser, un buen punto de entrada para descubrir datasets.\n"
   ]
  },
  {
   "cell_type": "markdown",
   "metadata": {},
   "source": [
    "## Librerías de Python\n",
    "\n",
    "Las bibliotecas de Python son la última extensión en SIG porque permiten mejorar su funcionalidad principal. Al utilizar las bibliotecas de Python, puede salirse del molde de los SIG y sumergirse en la ciencia de datos. Todos le ayudan a ir más allá de la típica gestión, análisis y visualización de datos espaciales.\n",
    "\n",
    "Algunas de las librerías más comunes para análisis de datos geoespaciales ...\n",
    "\n",
    "- Geopandas\n",
    "- GDAL\n",
    "- NumPy\n",
    "- Matplotlib\n",
    "- rasterio\n",
    "- xarray\n",
    "- rioxarray\n",
    "- rasterstats\n",
    "\n",
    "¡Y muchos más!\n"
   ]
  },
  {
   "cell_type": "markdown",
   "metadata": {},
   "source": [
    "# ¿Qué sigue?\n",
    "\n",
    "Ahora que hemos hecho una pequeña intro de los datos satelitales, vamos a comenzar el taller de verdad. Antes de nada, vamos a ver qué es SPAI y cómo comenzar. ¡Vamos a la primera [notebook](01_spai.ipynb)!\n"
   ]
  }
 ],
 "metadata": {
  "language_info": {
   "name": "python"
  }
 },
 "nbformat": 4,
 "nbformat_minor": 2
}
