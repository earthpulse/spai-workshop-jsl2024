{
 "cells": [
  {
   "cell_type": "markdown",
   "metadata": {},
   "source": [
    "# Desplegar un proyecto de SPAI\n"
   ]
  },
  {
   "cell_type": "markdown",
   "metadata": {},
   "source": [
    "Hasta ahora, hemos visto diferentes funcionalidades de SPAI necesarias para poder desarrollar una aplicación basada en datos de Observación de la Tierra, como es el acceso a estos datos y su procesado. Ahora queda desplegar nuestra aplicación, ya sea localmente o en el cloud, sacando provecho de toda la potencia y capacidad de los recursos de computación en la nube.\n",
    "\n",
    "En esta notebook, veremos lo que es un proyecto de SPAI y cómo desplegarlo.\n"
   ]
  },
  {
   "cell_type": "markdown",
   "metadata": {},
   "source": [
    "## Proyectos de SPAI\n",
    "\n",
    "Un proyecto de SPAI no es más que un directorio de carpetas con una estructura y archivos predeterminados y necesarios para que todo funcione correctamente, de manera que podemos tener nuestros scripts, APIs, UIs o Notebooks cómodamente colocados.\n",
    "\n",
    "La manera más fácil de comenzar con un nuevo proyecto de SPAI es ejecutando el comando `init`, seguido por el nombre que le quieras dar a tu proyecto.\n"
   ]
  },
  {
   "cell_type": "code",
   "execution_count": 1,
   "metadata": {},
   "outputs": [
    {
     "name": "stdout",
     "output_type": "stream",
     "text": [
      "Project mi-proyecto created at /Users/fran/Documents/dev/spai-workshop-jsl-2024/notebooks\n"
     ]
    }
   ],
   "source": [
    "!spai init mi-proyecto   # Reemplaza mi-proyecto por el nombre de tu proyecto!"
   ]
  },
  {
   "cell_type": "markdown",
   "metadata": {},
   "source": [
    "Una vez el proyecto se ha creado, veremos la carpeta con el nombre que le hayamos dado.\n"
   ]
  },
  {
   "cell_type": "markdown",
   "metadata": {},
   "source": [
    "### Estructura de un proyecto de SPAI\n"
   ]
  },
  {
   "cell_type": "markdown",
   "metadata": {},
   "source": [
    "Todos los proyectos de SPAI siguen la misma estructura:\n",
    "\n",
    "```bash\n",
    "/my-project\n",
    " |- /scripts\n",
    "     |- /my-script-1\n",
    "        |- main.py\n",
    "        |- requirements.txt\n",
    "        |- .env\n",
    "     |- /my-script-2\n",
    "     |- ...\n",
    " |- /apis\n",
    "     |- /my-api-1\n",
    "        |- main.py\n",
    "        |- requirements.txt\n",
    "        |- .env\n",
    "     |- /my-api-2\n",
    "     |- ...\n",
    " |- /uis\n",
    "     |- /my-ui-1\n",
    "        |- main.py\n",
    "        |- requirements.txt\n",
    "        |- .env\n",
    "     |- /my-ui-2\n",
    "     |- ...\n",
    " |- /notebooks\n",
    "     |- /my-notebook-1\n",
    "        |- main.ipynb\n",
    "        |- requirements.txt\n",
    "        |- .env\n",
    "     |- /my-notebook-2\n",
    "     |- ...\n",
    "  |- spai.config.yaml\n",
    "  |- spai.vars.json\n",
    "```\n",
    "\n",
    "Las carpetas `scripts`, `apis`, `uis` y `notebooks` son donde escribirás tu código. Cada carpeta contiene una subcarpeta para cada uno de sus scripts, API, UI y cuadernos, respectivamente. Cada subcarpeta contiene el código para el script, API, UI o notebook específico, así como un archivo `requirements.txt` y un archivo `.env`.\n",
    "\n",
    "El archivo `spai.config.yaml` contiene la configuración de su proyecto, que le indicará a SPAI cómo ejecutar su proyecto localmente o implementarlo en la nube. Por su lado, el archivo `spai.vars.json` contiene todas las variables de entorno que se compartirán entre los diferentes servicios del proyecto, como por ejemplo la geometría del área de interés, las fechas, u otras variables que necesitemos.\n",
    "\n",
    "Puede obtener más información sobre la estructura del proyecto [aquí](https://spai.earthpulse.ai/docs/reference).\n"
   ]
  },
  {
   "cell_type": "markdown",
   "metadata": {},
   "source": [
    "## Desplegar tu proyecto localmente\n",
    "\n",
    "Antes de nada, vamos a probar de desplegar el proyecto que acabamos de crear localmente. Primero, asegúrate de que instalas las dependencias de cada servicio.\n"
   ]
  },
  {
   "cell_type": "code",
   "execution_count": null,
   "metadata": {},
   "outputs": [],
   "source": [
    "!spai install mi-proyecto"
   ]
  },
  {
   "cell_type": "markdown",
   "metadata": {},
   "source": [
    "Antes de nada, también vamos a hacer algunos cambios en la configuración del proyecto.\n",
    "\n",
    "1. Cambie el `tipo` de almacenamiento en `spai.config.yaml` a `local`, para que sus datos se almacenen en una carpeta local.\n",
    "2. Cambie el comando de la interfaz de usuario a `command: streamlit run main.py --server.address localhost`, esto se debe a cómo funciona Streamlit.\n"
   ]
  },
  {
   "cell_type": "markdown",
   "metadata": {},
   "source": [
    "Y ahora, ¡vamos a desplegarlo!\n"
   ]
  },
  {
   "cell_type": "code",
   "execution_count": null,
   "metadata": {},
   "outputs": [],
   "source": [
    "!spai run mi-proyecto"
   ]
  },
  {
   "cell_type": "markdown",
   "metadata": {},
   "source": [
    "Si todo ha ido como es debido, tendras tu proyecto desplegado en local y corriendo. Puedes interactuar con las APIs, notebooks o UIs en los puertos de tu localhost.\n",
    "\n",
    "> ¡Siéntete libre de adaptar la configuración y servicios a tu gusto!\n"
   ]
  },
  {
   "cell_type": "markdown",
   "metadata": {},
   "source": [
    "## Desplegar un proyecto en el cloud\n"
   ]
  },
  {
   "cell_type": "markdown",
   "metadata": {},
   "source": [
    "Ahora viene la parte interesante, y es que vamos a desplegar el proyecto en la nube. Esto quiere decir que todo el procesado se llevará a cabo en la nube, y que se generarán URLs automáticas y expuestas para poder consultar las APIs, UIs o incluso notebooks.\n",
    "\n",
    "Antes de hacerlo, vamos a revertir los cambios que hemos hecho antes:\n",
    "\n",
    "1. Cambie el `tipo` de almacenamiento en `spai.config.yaml` a `s3`, para que sus datos se almacenen en un bucket en la nube.\n",
    "2. Cambie el comando de la interfaz de usuario a `streamlit run main.py --server.address 0.0.0.0 --server.port 80`, esto se debe a cómo funciona Streamlit.\n",
    "\n",
    "Y es tan sencillo como ejecutar un comando:\n"
   ]
  },
  {
   "cell_type": "code",
   "execution_count": null,
   "metadata": {},
   "outputs": [],
   "source": [
    "!spai deploy mi-proyecto"
   ]
  },
  {
   "cell_type": "markdown",
   "metadata": {},
   "source": [
    "¡Y listo! Después de ejecutar el comando `deploy`, obtendrá una URL en su panel de control donde podrá realizar un seguimiento del estado de su proyecto, así como obtener URL públicas para sus API, UI y notebooks, y acceder a los registros.\n",
    "\n",
    "Como puede ver, no tiene que preocuparse por configurar servidores, bases de datos o cualquier otra infraestructura. Nosotros nos encargamos de eso por usted, aprovisionando los recursos necesarios en la nube y administrándolos por usted. Puedes concentrarte en escribir tu código y dejar que nosotros nos encarguemos del resto.\n"
   ]
  },
  {
   "cell_type": "markdown",
   "metadata": {},
   "source": [
    "## Gestionar tu proyecto\n",
    "\n",
    "Una vez tu proyecti se ha desplegado, por supuesto lo puedes gestionar con la CLI.\n"
   ]
  },
  {
   "cell_type": "markdown",
   "metadata": {},
   "source": [
    "Para listar tus proyectos:\n"
   ]
  },
  {
   "cell_type": "code",
   "execution_count": null,
   "metadata": {},
   "outputs": [],
   "source": [
    "!spai list projects"
   ]
  },
  {
   "cell_type": "markdown",
   "metadata": {},
   "source": [
    "Para obtener los servicios de un proyecto:\n"
   ]
  },
  {
   "cell_type": "code",
   "execution_count": null,
   "metadata": {},
   "outputs": [],
   "source": [
    "!spai list services mi-proyecto"
   ]
  },
  {
   "cell_type": "markdown",
   "metadata": {},
   "source": [
    "Obtener los logs de un servicio:\n"
   ]
  },
  {
   "cell_type": "code",
   "execution_count": null,
   "metadata": {},
   "outputs": [],
   "source": [
    "!spai logs mi-proyecto scripts download"
   ]
  },
  {
   "cell_type": "markdown",
   "metadata": {},
   "source": [
    "Parar un proyecto. Al detener un proyecto, se detendrán todos los servicios en ejecución, pero sus datos seguirán almacenados en la nube. Puede reiniciar el proyecto con el comando `deploy`.\n"
   ]
  },
  {
   "cell_type": "code",
   "execution_count": null,
   "metadata": {},
   "outputs": [],
   "source": [
    "!spai stop mi-proyecto"
   ]
  },
  {
   "cell_type": "markdown",
   "metadata": {},
   "source": [
    "Y finalmente, puedes borrar tu proyecto. Esto también eliminará los datos en el bucket, ¡y es irreversible!\n"
   ]
  },
  {
   "cell_type": "code",
   "execution_count": null,
   "metadata": {},
   "outputs": [],
   "source": [
    "!spai delete mi-proyecto"
   ]
  },
  {
   "cell_type": "markdown",
   "metadata": {},
   "source": [
    "## ¿Qué sigue?\n",
    "\n",
    "¡Solo hemos arañado la superficie de lo que se puede hacer con SPAI!\n",
    "\n",
    "Ahora que ya tenemos nuestro proyecto desplegado en el cloud, y con datos, en la siguiente notebook, vamos a ver cómo podemos [integrar SPAI en QGIS](06_integraciones.ipynb), y visualizar o explotar nuestras analíticas directamente desde un SIG.\n"
   ]
  }
 ],
 "metadata": {
  "kernelspec": {
   "display_name": "spai",
   "language": "python",
   "name": "python3"
  },
  "language_info": {
   "codemirror_mode": {
    "name": "ipython",
    "version": 3
   },
   "file_extension": ".py",
   "mimetype": "text/x-python",
   "name": "python",
   "nbconvert_exporter": "python",
   "pygments_lexer": "ipython3",
   "version": "3.10.14"
  }
 },
 "nbformat": 4,
 "nbformat_minor": 2
}
