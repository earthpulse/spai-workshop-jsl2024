{
 "cells": [
  {
   "cell_type": "markdown",
   "metadata": {},
   "source": [
    "# Integrar SPAI en QGIS\n"
   ]
  },
  {
   "cell_type": "markdown",
   "metadata": {},
   "source": [
    "Una de las mayores virtudes de SPAI es su capacidad de poder ser integrado en casi cualquier plataforma o software, ya sea un SIG de escritorio, como QGIS o ArcGIS, o una plataforma de datos, como IBM Watsonx, Databricks o Google Query. Al almacenar los datos en un bucket de S3, simplemente obteniendo las credenciales de AWS y el nombre del bucket lo podremos integrar prácticamente donde queramos.\n",
    "\n",
    "En este caso concreto, vamos a integrar los datos obtenidos en QGIS!\n"
   ]
  },
  {
   "cell_type": "markdown",
   "metadata": {},
   "source": [
    "Lo primero que tendremos que hacer, es obtener nuestras credenciales de AWS. Para ello, ejecutaremos el comando `spai auth credentials`.\n",
    "\n",
    "> ¡Cuidado! ¡Es información sensible!\n"
   ]
  },
  {
   "cell_type": "code",
   "execution_count": null,
   "metadata": {},
   "outputs": [],
   "source": [
    "!spai auth credentials"
   ]
  },
  {
   "cell_type": "markdown",
   "metadata": {},
   "source": [
    "Con este comando, podremos obtener nuestra `AWS_ACCESS_KEY_ID` y nuestra `AWS_SECRET_ACCESS_KEY`, las cuales nos harán falta para integrar nuestro bucket de S3 en QGIS.\n",
    "\n",
    "Una vez tenemos las credenciales de AWS, necesitamso el nombre de nuestro bucket. Lo que hay que hacer ahora es ejecutar el comando `spai list services my-project`, y de entre todos nuestros servicios, buscar el servicio donde `type` sea s3, y sacar el nombre del `bucket`.\n",
    "\n",
    "> ¡Cuidado de nuevo! ¡Información sensible!\n"
   ]
  },
  {
   "cell_type": "code",
   "execution_count": null,
   "metadata": {},
   "outputs": [],
   "source": [
    "!spai list services my-project"
   ]
  },
  {
   "cell_type": "markdown",
   "metadata": {},
   "source": [
    "Una vez con esto, ya podremos ir a QGIS e integrar nuestro bucket de SPAI directamente allí. Lo primero que deberemos hacer será ir a Settings >>> Options.\n",
    "\n",
    "![Alt text](../img/integration-1.png \"Integración 1\")\n"
   ]
  },
  {
   "cell_type": "markdown",
   "metadata": {},
   "source": [
    "Allí, en System, iremos a Environment y añadiremos nuevas variables de entorno. Añadiremos nuestra `AWS_ACCESS_KEY_ID` y nuestra `AWS_SECRET_ACCESS_KEY`\n",
    "\n",
    "![Alt text](../img/integration-2.png \"Integración 1\")\n"
   ]
  },
  {
   "cell_type": "markdown",
   "metadata": {},
   "source": [
    "Ahora, ya podemos ir a Layer >>> Add layer >>> Add raster layer.\n",
    "\n",
    "![Alt text](../img/integration-3.png \"Integración 1\")\n"
   ]
  },
  {
   "cell_type": "markdown",
   "metadata": {},
   "source": [
    "Seleccionamos HTTP(S), cloud, etc. y en Protocol Type seleccionamos AWS S3. Aquí, simplemente añadiremos el nombre de nuestro bucket y el nombre del archivo que queremos visualizar.\n",
    "\n",
    "![Alt text](../img/integration-4.png \"Integración 1\")\n"
   ]
  },
  {
   "cell_type": "markdown",
   "metadata": {},
   "source": [
    "¡Y listo! Ya podemos añadir a QGIS todos los datos que hemos generado con SPAI! Lo potente de esto es que lo que obtenemos y manejamos en QGIS es el dato en sí mismo, no una visualización. De esta manera, si queremos, podemos hacer otro procesado encima, cambiar la visualización, etc. Las posibilidades son infinitas!\n",
    "\n",
    "![Alt text](../img/integration-5.png \"Integración 1\")\n"
   ]
  }
 ],
 "metadata": {
  "kernelspec": {
   "display_name": "spai",
   "language": "python",
   "name": "python3"
  },
  "language_info": {
   "codemirror_mode": {
    "name": "ipython",
    "version": 3
   },
   "file_extension": ".py",
   "mimetype": "text/x-python",
   "name": "python",
   "nbconvert_exporter": "python",
   "pygments_lexer": "ipython3",
   "version": "3.10.14"
  }
 },
 "nbformat": 4,
 "nbformat_minor": 2
}
