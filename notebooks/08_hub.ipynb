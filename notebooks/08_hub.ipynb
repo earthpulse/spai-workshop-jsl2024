{
 "cells": [
  {
   "cell_type": "markdown",
   "metadata": {},
   "source": [
    "# SPAI Hub\n"
   ]
  },
  {
   "cell_type": "markdown",
   "metadata": {},
   "source": [
    "Como se ha visto en el [notebook anterior](07_templates.ipynb), podemos utilizar proyectos de SPAI como plantillas pre-definidas que cumplen una función determinada. Esto lo podemos hacer desde la CLI y la librería de Python, pero también se puede llevar a cabo cómodamente y desde una interfaz gráfica utilizando SPAI Hub. SPAI Hub es un \"Marketplace\" con proyectos listas para usar. Estas aplicaciones son casos de uso predefinidos para utilizar datos de EO para resolver un problema específico, como el monitoreo de la salud forestal, la calidad del agua y cualquier otra aplicación.\n",
    "\n",
    "![Alt text](../img/hub-1.png \"SPAI Hub\")\n"
   ]
  },
  {
   "cell_type": "markdown",
   "metadata": {},
   "source": [
    "¡Veamos un ejemplo de cómo usarlo! ¡Vamos a la web de [SPAI Hub](https://spai.earthpulse.ai/hub) y veamos como podemos desplegar aplicaciones desde aquí!\n",
    "\n",
    "Si quieres, puedes ir directamente a la [guía](https://spai.earthpulse.ai/docs/guide/hub) y seguirla a tu propio ritmo.\n"
   ]
  }
 ],
 "metadata": {
  "language_info": {
   "name": "python"
  }
 },
 "nbformat": 4,
 "nbformat_minor": 2
}
