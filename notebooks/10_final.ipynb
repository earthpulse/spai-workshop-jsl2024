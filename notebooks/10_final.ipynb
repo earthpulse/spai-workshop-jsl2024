{
 "cells": [
  {
   "cell_type": "markdown",
   "metadata": {},
   "source": [
    "# Consideraciones finales\n"
   ]
  },
  {
   "cell_type": "markdown",
   "metadata": {},
   "source": [
    "¡Muchas gracias por llegar hasta aquí! Esperamos que el taller haya sido útil y hayáis podido aprender un poco más sobre SPAI. ¡Sólo hemos tocado la superfície de lo que podemos hacer! Sentíos libres de probar (¡incluso intentar romper!) SPAI y utilizarlo para llenar internet de aplicaciones basadas en datos satelitales.\n",
    "\n",
    "Para acabar, nos gustaría saber vuestra opinión tanto sobre el taller como de SPAI, para poder seguir mejorando. Podeis ir directamente al [enlace](https://docs.google.com/forms/d/e/1FAIpQLScRn8iz-Ck-nc6Vuy2TwcWNt-L8v6HBu4M6j83xE-AwXlfhQA/viewform?usp=sf_link) o escanear el QR.\n",
    "\n",
    "<div style=\"text-align: center;\">\n",
    "    <img src=\"../img/qr-11.png\" width=350>\n",
    "</div>\n",
    "\n",
    "> Cuestionario final sobre el taller\n",
    "\n",
    "De nuevo, os animamos a uniros a nuestro servidor de [Discord](https://discord.com/invite/gCWyPzDjM2). Estaremos allí para responder cualquier pregunta que tengáis o para recoger vuestro feedback, comentarios y sugerencias. Lo que más nos mueve es crear una comunidad, y estaremos encantados de recoger todas vuestras necesidades, inquietudes o problemas trabajando con estos datos para crear un producto que os pueda ayudar.\n",
    "\n",
    "<div style=\"text-align: center;\">\n",
    "    <img src=\"../img/discord-qr.png\" width=350>\n",
    "</div>\n",
    "\n",
    "> QR del canal de Discord.\n",
    "\n",
    "Cualquier pregunta en persona, ¡es el momento! ¡Gracias por vuestra asistencia!\n"
   ]
  }
 ],
 "metadata": {
  "language_info": {
   "name": "python"
  }
 },
 "nbformat": 4,
 "nbformat_minor": 2
}
